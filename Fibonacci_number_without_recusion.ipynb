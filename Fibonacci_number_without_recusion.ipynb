{
  "nbformat": 4,
  "nbformat_minor": 0,
  "metadata": {
    "colab": {
      "name": "Fibonacci-number-without-recusion.ipynb",
      "provenance": [],
      "authorship_tag": "ABX9TyPQyC5fLGjfl+GJhGZZTWQg",
      "include_colab_link": true
    },
    "kernelspec": {
      "name": "python3",
      "display_name": "Python 3"
    },
    "language_info": {
      "name": "python"
    }
  },
  "cells": [
    {
      "cell_type": "markdown",
      "metadata": {
        "id": "view-in-github",
        "colab_type": "text"
      },
      "source": [
        "<a href=\"https://colab.research.google.com/github/ayyaz-azeem/miscellaneous/blob/main/Fibonacci_number_without_recusion.ipynb\" target=\"_parent\"><img src=\"https://colab.research.google.com/assets/colab-badge.svg\" alt=\"Open In Colab\"/></a>"
      ]
    },
    {
      "cell_type": "code",
      "execution_count": 1,
      "metadata": {
        "id": "fZ6RoVoYGH1r"
      },
      "outputs": [],
      "source": [
        "import numpy as np\n",
        "import pandas as pd"
      ]
    },
    {
      "cell_type": "code",
      "source": [
        "a = 1 \n",
        "b = 1\n",
        "number = input('enter number: ')"
      ],
      "metadata": {
        "colab": {
          "base_uri": "https://localhost:8080/"
        },
        "id": "ddXAwP_JGMDe",
        "outputId": "3f2c33bc-f59f-4579-f300-9f4ea7125439"
      },
      "execution_count": 13,
      "outputs": [
        {
          "name": "stdout",
          "output_type": "stream",
          "text": [
            "enter number: 15\n"
          ]
        }
      ]
    },
    {
      "cell_type": "code",
      "source": [
        "print(number)\n"
      ],
      "metadata": {
        "colab": {
          "base_uri": "https://localhost:8080/"
        },
        "id": "R7kQsFfsGSfU",
        "outputId": "daffc707-f228-4915-ddc3-e8f810068a45"
      },
      "execution_count": 3,
      "outputs": [
        {
          "output_type": "stream",
          "name": "stdout",
          "text": [
            "5\n"
          ]
        }
      ]
    },
    {
      "cell_type": "code",
      "source": [
        "if(int(number)<2):\n",
        "  if(int(number)==1):\n",
        "    print('{}'.format(a))\n",
        "  else:\n",
        "    print('{}, {}'.format(a,b))\n",
        "else:\n",
        "  print('{}'.format(a))\n",
        "  for i in range(1,int(number)):\n",
        "    print('{}'.format(b))\n",
        "    a,b=b,a+b\n",
        "    "
      ],
      "metadata": {
        "colab": {
          "base_uri": "https://localhost:8080/"
        },
        "id": "5-enEyHfGVNu",
        "outputId": "42e6819d-e271-43fb-acbc-f9f26e3d45b9"
      },
      "execution_count": 14,
      "outputs": [
        {
          "output_type": "stream",
          "name": "stdout",
          "text": [
            "1\n",
            "1\n",
            "2\n",
            "3\n",
            "5\n",
            "8\n",
            "13\n",
            "21\n",
            "34\n",
            "55\n",
            "89\n",
            "144\n",
            "233\n",
            "377\n",
            "610\n"
          ]
        }
      ]
    },
    {
      "cell_type": "code",
      "source": [
        ""
      ],
      "metadata": {
        "id": "MtLPdQcEG20u"
      },
      "execution_count": null,
      "outputs": []
    }
  ]
}